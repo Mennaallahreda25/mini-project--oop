{
 "cells": [
  {
   "cell_type": "code",
   "execution_count": 3,
   "id": "721ad37f",
   "metadata": {
    "ExecuteTime": {
     "end_time": "2022-08-29T23:50:32.674616Z",
     "start_time": "2022-08-29T23:50:32.658659Z"
    }
   },
   "outputs": [],
   "source": [
    "class library:\n",
    "    def __init__(self,listofbooks,library_name):\n",
    "        self.listofbooks=listofbooks\n",
    "        self.library_name=library_name\n",
    "        self.lended_books=dict()\n",
    "        \n",
    "    def displaybook(self):\n",
    "        for x in self.listofbooks:\n",
    "            print(x)\n",
    "            \n",
    "    def lendbook(self):\n",
    "        user=input(\"please enter your name: \")\n",
    "        mychoice_l=input(\"Enter the book you want: \")\n",
    "        if mychoice_l in self.listofbooks:\n",
    "            self.listofbooks.remove(mychoice_l)\n",
    "            self.lended_books={user : mychoice_l}\n",
    "            print(\"your request done sucessfully\")\n",
    "        else:\n",
    "            print(\"sorry we do not have that book\")\n",
    "        \n",
    "    def addbook(self):\n",
    "        mychoice_a=input(\"Enter the book you want to add: \")\n",
    "        self.listofbooks.append(mychoice_a)\n",
    "        print(\"your request done sucessfully\")\n",
    "\n",
    "    def returnbook(self):\n",
    "        mychoice_r=input(\"Enter the book you want to return: \")\n",
    "        uname=input(\"Enter your name: \")\n",
    "        if uname in self.lended_books.keys():\n",
    "            self.lended_books.pop(uname)\n",
    "            self.listofbooks.append(mychoice_r)\n",
    "            print(\"your request done sucessfully\")\n",
    "        else:\n",
    "            print(\"sorry something is wrong in your request please try again\")"
   ]
  },
  {
   "cell_type": "code",
   "execution_count": null,
   "id": "e62ef436",
   "metadata": {
    "ExecuteTime": {
     "start_time": "2022-08-29T23:50:34.919Z"
    }
   },
   "outputs": [
    {
     "name": "stdout",
     "output_type": "stream",
     "text": [
      "                    \n",
      "welcome to  nature library\n",
      "1 - DISPLAY BOOKS\n",
      "2 - LEND A BOOK\n",
      "3 - ADD A BOOk\n",
      "4 - RETURN A BOOK \n",
      "Enter your choice number: 2\n",
      "please enter your name: mm\n",
      "Enter the book you want: sun\n",
      "your request done sucessfully\n",
      "                    \n",
      "welcome to  nature library\n",
      "1 - DISPLAY BOOKS\n",
      "2 - LEND A BOOK\n",
      "3 - ADD A BOOk\n",
      "4 - RETURN A BOOK \n",
      "Enter your choice number: 4\n",
      "Enter the book you want to return: sun\n",
      "Enter your name: mm\n",
      "your request done sucessfully\n",
      "                    \n",
      "welcome to  nature library\n",
      "1 - DISPLAY BOOKS\n",
      "2 - LEND A BOOK\n",
      "3 - ADD A BOOk\n",
      "4 - RETURN A BOOK \n",
      "Enter your choice number: 1\n",
      "moon\n",
      "river\n",
      "mountains\n",
      "sun\n",
      "                    \n",
      "welcome to  nature library\n",
      "1 - DISPLAY BOOKS\n",
      "2 - LEND A BOOK\n",
      "3 - ADD A BOOk\n",
      "4 - RETURN A BOOK \n",
      "Enter your choice number: 1\n",
      "moon\n",
      "river\n",
      "mountains\n",
      "sun\n",
      "                    \n",
      "welcome to  nature library\n",
      "1 - DISPLAY BOOKS\n",
      "2 - LEND A BOOK\n",
      "3 - ADD A BOOk\n",
      "4 - RETURN A BOOK \n",
      "Enter your choice number: 2\n",
      "please enter your name: mm\n",
      "Enter the book you want: moon\n",
      "your request done sucessfully\n",
      "                    \n",
      "welcome to  nature library\n",
      "1 - DISPLAY BOOKS\n",
      "2 - LEND A BOOK\n",
      "3 - ADD A BOOk\n",
      "4 - RETURN A BOOK \n",
      "Enter your choice number: 4\n",
      "Enter the book you want to return: moon\n",
      "Enter your name: kk\n",
      "sorry something is wrong in your request please try again\n",
      "                    \n",
      "welcome to  nature library\n",
      "1 - DISPLAY BOOKS\n",
      "2 - LEND A BOOK\n",
      "3 - ADD A BOOk\n",
      "4 - RETURN A BOOK \n"
     ]
    }
   ],
   "source": [
    "library_one=library([\"sun\",\"moon\",\"river\",\"mountains\"],\"nature library\")\n",
    "def main ():\n",
    "    while True:\n",
    "        print(\" \"*20)\n",
    "        print(\"welcome to \",library_one.library_name)\n",
    "        print(\"1 - DISPLAY BOOKS\")\n",
    "        print(\"2 - LEND A BOOK\")\n",
    "        print(\"3 - ADD A BOOk\")\n",
    "        print(\"4 - RETURN A BOOK \")\n",
    "        yourchoice=int(input(\"Enter your choice number: \"))\n",
    "        if yourchoice==1:\n",
    "            library_one.displaybook()\n",
    "        elif yourchoice==2:\n",
    "            library_one.lendbook()\n",
    "        elif yourchoice==3:\n",
    "            library_one.addbook()\n",
    "        elif yourchoice==4:\n",
    "            library_one.returnbook()\n",
    "        else:\n",
    "            print(\"sorry i didn't understand your request\")\n",
    "                  \n",
    "if __name__=='__main__':\n",
    "    main() "
   ]
  },
  {
   "cell_type": "code",
   "execution_count": null,
   "id": "fd2c1fc7",
   "metadata": {},
   "outputs": [],
   "source": []
  }
 ],
 "metadata": {
  "kernelspec": {
   "display_name": "Python 3 (ipykernel)",
   "language": "python",
   "name": "python3"
  },
  "language_info": {
   "codemirror_mode": {
    "name": "ipython",
    "version": 3
   },
   "file_extension": ".py",
   "mimetype": "text/x-python",
   "name": "python",
   "nbconvert_exporter": "python",
   "pygments_lexer": "ipython3",
   "version": "3.9.12"
  },
  "toc": {
   "base_numbering": 1,
   "nav_menu": {},
   "number_sections": true,
   "sideBar": true,
   "skip_h1_title": false,
   "title_cell": "Table of Contents",
   "title_sidebar": "Contents",
   "toc_cell": false,
   "toc_position": {},
   "toc_section_display": true,
   "toc_window_display": false
  },
  "varInspector": {
   "cols": {
    "lenName": 16,
    "lenType": 16,
    "lenVar": 40
   },
   "kernels_config": {
    "python": {
     "delete_cmd_postfix": "",
     "delete_cmd_prefix": "del ",
     "library": "var_list.py",
     "varRefreshCmd": "print(var_dic_list())"
    },
    "r": {
     "delete_cmd_postfix": ") ",
     "delete_cmd_prefix": "rm(",
     "library": "var_list.r",
     "varRefreshCmd": "cat(var_dic_list()) "
    }
   },
   "types_to_exclude": [
    "module",
    "function",
    "builtin_function_or_method",
    "instance",
    "_Feature"
   ],
   "window_display": false
  }
 },
 "nbformat": 4,
 "nbformat_minor": 5
}
